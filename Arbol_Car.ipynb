{
  "nbformat": 4,
  "nbformat_minor": 0,
  "metadata": {
    "colab": {
      "name": "Arbol-Car.ipynb",
      "provenance": [],
      "collapsed_sections": [],
      "authorship_tag": "ABX9TyPON1VRp3PUblq+oC/ZJlQV",
      "include_colab_link": true
    },
    "kernelspec": {
      "name": "python3",
      "display_name": "Python 3"
    },
    "language_info": {
      "name": "python"
    }
  },
  "cells": [
    {
      "cell_type": "markdown",
      "metadata": {
        "id": "view-in-github",
        "colab_type": "text"
      },
      "source": [
        "<a href=\"https://colab.research.google.com/github/PNeil95/TreeDecision_Pandas/blob/main/Arbol_Car.ipynb\" target=\"_parent\"><img src=\"https://colab.research.google.com/assets/colab-badge.svg\" alt=\"Open In Colab\"/></a>"
      ]
    },
    {
      "cell_type": "markdown",
      "source": [
        "***MODELO DE APRENDIZAJE AUTOMATICO SUPERVISADO - ARBOL DE DECISION***"
      ],
      "metadata": {
        "id": "g7PZyd0Y5vbo"
      }
    },
    {
      "cell_type": "code",
      "execution_count": 18,
      "metadata": {
        "id": "GiZ8TLDZ5oma"
      },
      "outputs": [],
      "source": [
        "import pandas as pd\n",
        "import matplotlib.pyplot as plt\n",
        "import numpy as np"
      ]
    },
    {
      "cell_type": "code",
      "source": [
        "data = pd.read_csv('/content/car.csv', header = None)"
      ],
      "metadata": {
        "id": "adx6SBb76EbH"
      },
      "execution_count": 4,
      "outputs": []
    },
    {
      "cell_type": "code",
      "source": [
        "data.sample(5)"
      ],
      "metadata": {
        "colab": {
          "base_uri": "https://localhost:8080/",
          "height": 205
        },
        "id": "C6Hi7ViB6QtG",
        "outputId": "1d7a9ccb-44f4-45ad-840e-99e6e9deb77b"
      },
      "execution_count": 5,
      "outputs": [
        {
          "output_type": "execute_result",
          "data": {
            "text/html": [
              "<div>\n",
              "<style scoped>\n",
              "    .dataframe tbody tr th:only-of-type {\n",
              "        vertical-align: middle;\n",
              "    }\n",
              "\n",
              "    .dataframe tbody tr th {\n",
              "        vertical-align: top;\n",
              "    }\n",
              "\n",
              "    .dataframe thead th {\n",
              "        text-align: right;\n",
              "    }\n",
              "</style>\n",
              "<table border=\"1\" class=\"dataframe\">\n",
              "  <thead>\n",
              "    <tr style=\"text-align: right;\">\n",
              "      <th></th>\n",
              "      <th>0</th>\n",
              "      <th>1</th>\n",
              "      <th>2</th>\n",
              "      <th>3</th>\n",
              "      <th>4</th>\n",
              "      <th>5</th>\n",
              "      <th>6</th>\n",
              "    </tr>\n",
              "  </thead>\n",
              "  <tbody>\n",
              "    <tr>\n",
              "      <th>244</th>\n",
              "      <td>vhigh</td>\n",
              "      <td>med</td>\n",
              "      <td>3</td>\n",
              "      <td>2</td>\n",
              "      <td>small</td>\n",
              "      <td>med</td>\n",
              "      <td>unacc</td>\n",
              "    </tr>\n",
              "    <tr>\n",
              "      <th>996</th>\n",
              "      <td>med</td>\n",
              "      <td>high</td>\n",
              "      <td>2</td>\n",
              "      <td>more</td>\n",
              "      <td>big</td>\n",
              "      <td>low</td>\n",
              "      <td>unacc</td>\n",
              "    </tr>\n",
              "    <tr>\n",
              "      <th>1554</th>\n",
              "      <td>low</td>\n",
              "      <td>med</td>\n",
              "      <td>3</td>\n",
              "      <td>4</td>\n",
              "      <td>big</td>\n",
              "      <td>low</td>\n",
              "      <td>unacc</td>\n",
              "    </tr>\n",
              "    <tr>\n",
              "      <th>467</th>\n",
              "      <td>high</td>\n",
              "      <td>vhigh</td>\n",
              "      <td>3</td>\n",
              "      <td>2</td>\n",
              "      <td>big</td>\n",
              "      <td>high</td>\n",
              "      <td>unacc</td>\n",
              "    </tr>\n",
              "    <tr>\n",
              "      <th>850</th>\n",
              "      <td>high</td>\n",
              "      <td>low</td>\n",
              "      <td>5more</td>\n",
              "      <td>4</td>\n",
              "      <td>med</td>\n",
              "      <td>med</td>\n",
              "      <td>acc</td>\n",
              "    </tr>\n",
              "  </tbody>\n",
              "</table>\n",
              "</div>"
            ],
            "text/plain": [
              "          0      1      2     3      4     5      6\n",
              "244   vhigh    med      3     2  small   med  unacc\n",
              "996     med   high      2  more    big   low  unacc\n",
              "1554    low    med      3     4    big   low  unacc\n",
              "467    high  vhigh      3     2    big  high  unacc\n",
              "850    high    low  5more     4    med   med    acc"
            ]
          },
          "metadata": {},
          "execution_count": 5
        }
      ]
    },
    {
      "cell_type": "code",
      "source": [
        "data.columns = ['Price','Maintenance','Number_Doors','Capacity','Size_Lug','Safety','Class']"
      ],
      "metadata": {
        "id": "50tztItc6Tue"
      },
      "execution_count": 6,
      "outputs": []
    },
    {
      "cell_type": "code",
      "source": [
        "data.sample(5)"
      ],
      "metadata": {
        "colab": {
          "base_uri": "https://localhost:8080/",
          "height": 205
        },
        "id": "ZJ7JaNU86uCg",
        "outputId": "a1e9442a-9537-49ca-f0c9-39f691bffbb6"
      },
      "execution_count": 7,
      "outputs": [
        {
          "output_type": "execute_result",
          "data": {
            "text/html": [
              "<div>\n",
              "<style scoped>\n",
              "    .dataframe tbody tr th:only-of-type {\n",
              "        vertical-align: middle;\n",
              "    }\n",
              "\n",
              "    .dataframe tbody tr th {\n",
              "        vertical-align: top;\n",
              "    }\n",
              "\n",
              "    .dataframe thead th {\n",
              "        text-align: right;\n",
              "    }\n",
              "</style>\n",
              "<table border=\"1\" class=\"dataframe\">\n",
              "  <thead>\n",
              "    <tr style=\"text-align: right;\">\n",
              "      <th></th>\n",
              "      <th>Price</th>\n",
              "      <th>Maintenance</th>\n",
              "      <th>Number_Doors</th>\n",
              "      <th>Capacity</th>\n",
              "      <th>Size_Lug</th>\n",
              "      <th>Safety</th>\n",
              "      <th>Class</th>\n",
              "    </tr>\n",
              "  </thead>\n",
              "  <tbody>\n",
              "    <tr>\n",
              "      <th>1228</th>\n",
              "      <td>med</td>\n",
              "      <td>low</td>\n",
              "      <td>3</td>\n",
              "      <td>4</td>\n",
              "      <td>med</td>\n",
              "      <td>med</td>\n",
              "      <td>acc</td>\n",
              "    </tr>\n",
              "    <tr>\n",
              "      <th>550</th>\n",
              "      <td>high</td>\n",
              "      <td>high</td>\n",
              "      <td>2</td>\n",
              "      <td>4</td>\n",
              "      <td>small</td>\n",
              "      <td>med</td>\n",
              "      <td>unacc</td>\n",
              "    </tr>\n",
              "    <tr>\n",
              "      <th>913</th>\n",
              "      <td>med</td>\n",
              "      <td>vhigh</td>\n",
              "      <td>3</td>\n",
              "      <td>more</td>\n",
              "      <td>med</td>\n",
              "      <td>med</td>\n",
              "      <td>acc</td>\n",
              "    </tr>\n",
              "    <tr>\n",
              "      <th>1566</th>\n",
              "      <td>low</td>\n",
              "      <td>med</td>\n",
              "      <td>4</td>\n",
              "      <td>2</td>\n",
              "      <td>small</td>\n",
              "      <td>low</td>\n",
              "      <td>unacc</td>\n",
              "    </tr>\n",
              "    <tr>\n",
              "      <th>868</th>\n",
              "      <td>med</td>\n",
              "      <td>vhigh</td>\n",
              "      <td>2</td>\n",
              "      <td>2</td>\n",
              "      <td>med</td>\n",
              "      <td>med</td>\n",
              "      <td>unacc</td>\n",
              "    </tr>\n",
              "  </tbody>\n",
              "</table>\n",
              "</div>"
            ],
            "text/plain": [
              "     Price Maintenance Number_Doors Capacity Size_Lug Safety  Class\n",
              "1228   med         low            3        4      med    med    acc\n",
              "550   high        high            2        4    small    med  unacc\n",
              "913    med       vhigh            3     more      med    med    acc\n",
              "1566   low         med            4        2    small    low  unacc\n",
              "868    med       vhigh            2        2      med    med  unacc"
            ]
          },
          "metadata": {},
          "execution_count": 7
        }
      ]
    },
    {
      "cell_type": "code",
      "source": [
        "data.Price.replace(('vhigh','high','med','low'),(4,3,2,1),inplace=True)\n",
        "data.Maintenance.replace(('vhigh','high','med','low'),(4,3,2,1),inplace=True)\n",
        "data.Number_Doors.replace(('2','3','4','5more'),(1,2,3,4),inplace=True)\n",
        "data.Capacity.replace(('2','4','more'),(1,2,3),inplace=True)\n",
        "data.Size_Lug.replace(('small','med','big'),(1,2,3),inplace=True)\n",
        "data.Safety.replace(('low','med','high'),(1,2,3),inplace=True)"
      ],
      "metadata": {
        "id": "WRBFjqlK6ytQ"
      },
      "execution_count": 8,
      "outputs": []
    },
    {
      "cell_type": "code",
      "source": [
        "data['Class'].replace(('unacc','acc','good','vgood'),(1,2,3,4),inplace=True)"
      ],
      "metadata": {
        "id": "SL7Std4A72Tk"
      },
      "execution_count": 9,
      "outputs": []
    },
    {
      "cell_type": "code",
      "source": [
        "data.head(5)"
      ],
      "metadata": {
        "colab": {
          "base_uri": "https://localhost:8080/",
          "height": 205
        },
        "id": "B5pElOjv8LYm",
        "outputId": "5dc9815d-5219-469b-9654-1dc2e98e6f7f"
      },
      "execution_count": 10,
      "outputs": [
        {
          "output_type": "execute_result",
          "data": {
            "text/html": [
              "<div>\n",
              "<style scoped>\n",
              "    .dataframe tbody tr th:only-of-type {\n",
              "        vertical-align: middle;\n",
              "    }\n",
              "\n",
              "    .dataframe tbody tr th {\n",
              "        vertical-align: top;\n",
              "    }\n",
              "\n",
              "    .dataframe thead th {\n",
              "        text-align: right;\n",
              "    }\n",
              "</style>\n",
              "<table border=\"1\" class=\"dataframe\">\n",
              "  <thead>\n",
              "    <tr style=\"text-align: right;\">\n",
              "      <th></th>\n",
              "      <th>Price</th>\n",
              "      <th>Maintenance</th>\n",
              "      <th>Number_Doors</th>\n",
              "      <th>Capacity</th>\n",
              "      <th>Size_Lug</th>\n",
              "      <th>Safety</th>\n",
              "      <th>Class</th>\n",
              "    </tr>\n",
              "  </thead>\n",
              "  <tbody>\n",
              "    <tr>\n",
              "      <th>0</th>\n",
              "      <td>4</td>\n",
              "      <td>4</td>\n",
              "      <td>1</td>\n",
              "      <td>1</td>\n",
              "      <td>1</td>\n",
              "      <td>1</td>\n",
              "      <td>1</td>\n",
              "    </tr>\n",
              "    <tr>\n",
              "      <th>1</th>\n",
              "      <td>4</td>\n",
              "      <td>4</td>\n",
              "      <td>1</td>\n",
              "      <td>1</td>\n",
              "      <td>1</td>\n",
              "      <td>2</td>\n",
              "      <td>1</td>\n",
              "    </tr>\n",
              "    <tr>\n",
              "      <th>2</th>\n",
              "      <td>4</td>\n",
              "      <td>4</td>\n",
              "      <td>1</td>\n",
              "      <td>1</td>\n",
              "      <td>1</td>\n",
              "      <td>3</td>\n",
              "      <td>1</td>\n",
              "    </tr>\n",
              "    <tr>\n",
              "      <th>3</th>\n",
              "      <td>4</td>\n",
              "      <td>4</td>\n",
              "      <td>1</td>\n",
              "      <td>1</td>\n",
              "      <td>2</td>\n",
              "      <td>1</td>\n",
              "      <td>1</td>\n",
              "    </tr>\n",
              "    <tr>\n",
              "      <th>4</th>\n",
              "      <td>4</td>\n",
              "      <td>4</td>\n",
              "      <td>1</td>\n",
              "      <td>1</td>\n",
              "      <td>2</td>\n",
              "      <td>2</td>\n",
              "      <td>1</td>\n",
              "    </tr>\n",
              "  </tbody>\n",
              "</table>\n",
              "</div>"
            ],
            "text/plain": [
              "   Price  Maintenance  Number_Doors  Capacity  Size_Lug  Safety  Class\n",
              "0      4            4             1         1         1       1      1\n",
              "1      4            4             1         1         1       2      1\n",
              "2      4            4             1         1         1       3      1\n",
              "3      4            4             1         1         2       1      1\n",
              "4      4            4             1         1         2       2      1"
            ]
          },
          "metadata": {},
          "execution_count": 10
        }
      ]
    },
    {
      "cell_type": "markdown",
      "source": [
        "División de Datos: 80% para aprendizaje - 20% pruebas"
      ],
      "metadata": {
        "id": "ExctJGLh8dFn"
      }
    },
    {
      "cell_type": "code",
      "source": [
        "dataset = data.values\n",
        "X = dataset[:, 0:6]\n",
        "Y = np.asarray(dataset[:,6],dtype='S6')"
      ],
      "metadata": {
        "id": "JbkLrW_r8tRl"
      },
      "execution_count": 20,
      "outputs": []
    },
    {
      "cell_type": "code",
      "source": [
        "from sklearn import tree\n",
        "from sklearn.model_selection import train_test_split, cross_val_score\n",
        "from sklearn import metrics\n"
      ],
      "metadata": {
        "id": "jc2DFwZb-OMN"
      },
      "execution_count": 21,
      "outputs": []
    },
    {
      "cell_type": "code",
      "source": [
        "X_Train, X_Test, Y_Train, Y_Test = train_test_split(X,Y,test_size=0.2,random_state=0)"
      ],
      "metadata": {
        "id": "ikYCV3z4-ifP"
      },
      "execution_count": 22,
      "outputs": []
    },
    {
      "cell_type": "code",
      "source": [
        "tr = tree.DecisionTreeClassifier(max_depth=10)"
      ],
      "metadata": {
        "id": "RjhTUQBc-v2L"
      },
      "execution_count": 23,
      "outputs": []
    },
    {
      "cell_type": "code",
      "source": [
        "tr.fit(X_Train,Y_Train)"
      ],
      "metadata": {
        "colab": {
          "base_uri": "https://localhost:8080/"
        },
        "id": "OcIx-IZl-4FU",
        "outputId": "990a111c-7ef7-44c7-fbbf-0431294022ff"
      },
      "execution_count": 25,
      "outputs": [
        {
          "output_type": "execute_result",
          "data": {
            "text/plain": [
              "DecisionTreeClassifier(max_depth=10)"
            ]
          },
          "metadata": {},
          "execution_count": 25
        }
      ]
    },
    {
      "cell_type": "code",
      "source": [
        "y_pred = tr.predict(X_Test)"
      ],
      "metadata": {
        "id": "sf4S6fE9_Js7"
      },
      "execution_count": 26,
      "outputs": []
    },
    {
      "cell_type": "code",
      "source": [
        "y_pred"
      ],
      "metadata": {
        "colab": {
          "base_uri": "https://localhost:8080/"
        },
        "id": "PG2cJvI4_W8C",
        "outputId": "ecc6e713-a712-42cb-927e-815bf641c07c"
      },
      "execution_count": 27,
      "outputs": [
        {
          "output_type": "execute_result",
          "data": {
            "text/plain": [
              "array([b'1', b'1', b'1', b'1', b'1', b'3', b'1', b'2', b'3', b'1', b'1',\n",
              "       b'1', b'2', b'1', b'1', b'2', b'1', b'1', b'2', b'1', b'3', b'2',\n",
              "       b'3', b'1', b'1', b'1', b'1', b'1', b'1', b'1', b'3', b'2', b'1',\n",
              "       b'2', b'3', b'1', b'1', b'1', b'1', b'1', b'1', b'1', b'1', b'1',\n",
              "       b'4', b'1', b'1', b'2', b'1', b'1', b'1', b'1', b'1', b'1', b'1',\n",
              "       b'1', b'1', b'1', b'1', b'1', b'2', b'1', b'1', b'1', b'1', b'2',\n",
              "       b'1', b'1', b'1', b'1', b'1', b'2', b'1', b'2', b'3', b'2', b'1',\n",
              "       b'2', b'2', b'1', b'2', b'2', b'2', b'1', b'1', b'1', b'1', b'3',\n",
              "       b'1', b'1', b'1', b'2', b'1', b'1', b'1', b'4', b'1', b'2', b'2',\n",
              "       b'1', b'1', b'1', b'2', b'1', b'4', b'2', b'1', b'2', b'1', b'1',\n",
              "       b'1', b'1', b'1', b'2', b'1', b'3', b'1', b'1', b'1', b'1', b'1',\n",
              "       b'1', b'2', b'1', b'1', b'1', b'1', b'2', b'3', b'1', b'1', b'1',\n",
              "       b'2', b'1', b'1', b'1', b'1', b'1', b'1', b'1', b'1', b'1', b'1',\n",
              "       b'2', b'1', b'1', b'2', b'1', b'2', b'2', b'2', b'2', b'1', b'1',\n",
              "       b'1', b'2', b'1', b'1', b'1', b'1', b'2', b'1', b'1', b'1', b'2',\n",
              "       b'1', b'1', b'1', b'1', b'1', b'1', b'1', b'1', b'1', b'2', b'1',\n",
              "       b'1', b'1', b'1', b'1', b'2', b'2', b'2', b'1', b'2', b'1', b'3',\n",
              "       b'1', b'1', b'1', b'1', b'2', b'1', b'1', b'1', b'2', b'1', b'3',\n",
              "       b'1', b'1', b'1', b'1', b'2', b'1', b'1', b'1', b'1', b'1', b'1',\n",
              "       b'1', b'1', b'2', b'1', b'1', b'1', b'1', b'1', b'2', b'1', b'1',\n",
              "       b'1', b'2', b'1', b'4', b'1', b'1', b'1', b'4', b'1', b'1', b'1',\n",
              "       b'1', b'2', b'1', b'1', b'1', b'1', b'1', b'1', b'1', b'1', b'1',\n",
              "       b'1', b'1', b'3', b'1', b'2', b'1', b'1', b'1', b'1', b'1', b'3',\n",
              "       b'2', b'3', b'2', b'2', b'1', b'1', b'1', b'2', b'1', b'1', b'2',\n",
              "       b'1', b'1', b'4', b'1', b'2', b'1', b'1', b'1', b'2', b'1', b'2',\n",
              "       b'1', b'1', b'1', b'1', b'1', b'1', b'1', b'2', b'1', b'1', b'2',\n",
              "       b'1', b'4', b'3', b'1', b'1', b'1', b'1', b'1', b'1', b'1', b'1',\n",
              "       b'1', b'1', b'2', b'1', b'2', b'2', b'3', b'3', b'1', b'2', b'1',\n",
              "       b'2', b'1', b'3', b'2', b'1', b'1', b'1', b'1', b'1', b'1', b'1',\n",
              "       b'2', b'1', b'1', b'2', b'1', b'2', b'1', b'1', b'1', b'1', b'1',\n",
              "       b'2', b'1', b'3', b'1', b'3', b'1', b'1', b'1', b'4', b'1', b'1',\n",
              "       b'4', b'1', b'2', b'1', b'2'], dtype='|S6')"
            ]
          },
          "metadata": {},
          "execution_count": 27
        }
      ]
    },
    {
      "cell_type": "code",
      "source": [
        "score = tr.score(X_Test,Y_Test)"
      ],
      "metadata": {
        "id": "M6ryaV0q_ocy"
      },
      "execution_count": 28,
      "outputs": []
    },
    {
      "cell_type": "code",
      "source": [
        "print('Precisión: %0.4f'% (score))"
      ],
      "metadata": {
        "colab": {
          "base_uri": "https://localhost:8080/"
        },
        "id": "bBwQZ6nv_wXb",
        "outputId": "37646242-ffb0-4188-a69a-25fe2b35de02"
      },
      "execution_count": 29,
      "outputs": [
        {
          "output_type": "stream",
          "name": "stdout",
          "text": [
            "Precisión: 0.9740\n"
          ]
        }
      ]
    }
  ]
}